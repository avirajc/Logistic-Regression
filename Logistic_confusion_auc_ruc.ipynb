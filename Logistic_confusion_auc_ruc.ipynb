{
 "cells": [
  {
   "cell_type": "code",
   "execution_count": 1,
   "metadata": {},
   "outputs": [],
   "source": [
    "import numpy as np\n",
    "import pandas as pd\n",
    "import matplotlib.pyplot as plt\n",
    "import seaborn as sns\n",
    "import warnings\n",
    "warnings.filterwarnings(\"ignore\")"
   ]
  },
  {
   "cell_type": "code",
   "execution_count": 3,
   "metadata": {},
   "outputs": [],
   "source": [
    "df = pd.read_csv('diabetes.data')"
   ]
  },
  {
   "cell_type": "code",
   "execution_count": 4,
   "metadata": {},
   "outputs": [
    {
     "data": {
      "text/html": [
       "<div>\n",
       "<style scoped>\n",
       "    .dataframe tbody tr th:only-of-type {\n",
       "        vertical-align: middle;\n",
       "    }\n",
       "\n",
       "    .dataframe tbody tr th {\n",
       "        vertical-align: top;\n",
       "    }\n",
       "\n",
       "    .dataframe thead th {\n",
       "        text-align: right;\n",
       "    }\n",
       "</style>\n",
       "<table border=\"1\" class=\"dataframe\">\n",
       "  <thead>\n",
       "    <tr style=\"text-align: right;\">\n",
       "      <th></th>\n",
       "      <th>6</th>\n",
       "      <th>148</th>\n",
       "      <th>72</th>\n",
       "      <th>35</th>\n",
       "      <th>0</th>\n",
       "      <th>33.6</th>\n",
       "      <th>0.627</th>\n",
       "      <th>50</th>\n",
       "      <th>1</th>\n",
       "    </tr>\n",
       "  </thead>\n",
       "  <tbody>\n",
       "    <tr>\n",
       "      <th>0</th>\n",
       "      <td>1</td>\n",
       "      <td>85</td>\n",
       "      <td>66</td>\n",
       "      <td>29</td>\n",
       "      <td>0</td>\n",
       "      <td>26.6</td>\n",
       "      <td>0.351</td>\n",
       "      <td>31</td>\n",
       "      <td>0</td>\n",
       "    </tr>\n",
       "    <tr>\n",
       "      <th>1</th>\n",
       "      <td>8</td>\n",
       "      <td>183</td>\n",
       "      <td>64</td>\n",
       "      <td>0</td>\n",
       "      <td>0</td>\n",
       "      <td>23.3</td>\n",
       "      <td>0.672</td>\n",
       "      <td>32</td>\n",
       "      <td>1</td>\n",
       "    </tr>\n",
       "    <tr>\n",
       "      <th>2</th>\n",
       "      <td>1</td>\n",
       "      <td>89</td>\n",
       "      <td>66</td>\n",
       "      <td>23</td>\n",
       "      <td>94</td>\n",
       "      <td>28.1</td>\n",
       "      <td>0.167</td>\n",
       "      <td>21</td>\n",
       "      <td>0</td>\n",
       "    </tr>\n",
       "    <tr>\n",
       "      <th>3</th>\n",
       "      <td>0</td>\n",
       "      <td>137</td>\n",
       "      <td>40</td>\n",
       "      <td>35</td>\n",
       "      <td>168</td>\n",
       "      <td>43.1</td>\n",
       "      <td>2.288</td>\n",
       "      <td>33</td>\n",
       "      <td>1</td>\n",
       "    </tr>\n",
       "    <tr>\n",
       "      <th>4</th>\n",
       "      <td>5</td>\n",
       "      <td>116</td>\n",
       "      <td>74</td>\n",
       "      <td>0</td>\n",
       "      <td>0</td>\n",
       "      <td>25.6</td>\n",
       "      <td>0.201</td>\n",
       "      <td>30</td>\n",
       "      <td>0</td>\n",
       "    </tr>\n",
       "  </tbody>\n",
       "</table>\n",
       "</div>"
      ],
      "text/plain": [
       "   6  148  72  35    0  33.6  0.627  50  1\n",
       "0  1   85  66  29    0  26.6  0.351  31  0\n",
       "1  8  183  64   0    0  23.3  0.672  32  1\n",
       "2  1   89  66  23   94  28.1  0.167  21  0\n",
       "3  0  137  40  35  168  43.1  2.288  33  1\n",
       "4  5  116  74   0    0  25.6  0.201  30  0"
      ]
     },
     "execution_count": 4,
     "metadata": {},
     "output_type": "execute_result"
    }
   ],
   "source": [
    "df.head()"
   ]
  },
  {
   "cell_type": "code",
   "execution_count": 5,
   "metadata": {},
   "outputs": [
    {
     "name": "stdout",
     "output_type": "stream",
     "text": [
      "<class 'pandas.core.frame.DataFrame'>\n",
      "RangeIndex: 767 entries, 0 to 766\n",
      "Data columns (total 9 columns):\n",
      " #   Column  Non-Null Count  Dtype  \n",
      "---  ------  --------------  -----  \n",
      " 0   6       767 non-null    int64  \n",
      " 1   148     767 non-null    int64  \n",
      " 2   72      767 non-null    int64  \n",
      " 3   35      767 non-null    int64  \n",
      " 4   0       767 non-null    int64  \n",
      " 5   33.6    767 non-null    float64\n",
      " 6   0.627   767 non-null    float64\n",
      " 7   50      767 non-null    int64  \n",
      " 8   1       767 non-null    int64  \n",
      "dtypes: float64(2), int64(7)\n",
      "memory usage: 54.1 KB\n"
     ]
    }
   ],
   "source": [
    "df.info()"
   ]
  },
  {
   "cell_type": "code",
   "execution_count": 6,
   "metadata": {},
   "outputs": [
    {
     "data": {
      "text/plain": [
       "6        0\n",
       "148      0\n",
       "72       0\n",
       "35       0\n",
       "0        0\n",
       "33.6     0\n",
       "0.627    0\n",
       "50       0\n",
       "1        0\n",
       "dtype: int64"
      ]
     },
     "execution_count": 6,
     "metadata": {},
     "output_type": "execute_result"
    }
   ],
   "source": [
    "df.isnull().sum()"
   ]
  },
  {
   "cell_type": "code",
   "execution_count": 8,
   "metadata": {},
   "outputs": [],
   "source": [
    "x = df.iloc[:,:-1]\n",
    "y = df.iloc[:,-1]"
   ]
  },
  {
   "cell_type": "code",
   "execution_count": 9,
   "metadata": {},
   "outputs": [],
   "source": [
    "from sklearn.model_selection import train_test_split\n",
    "xtrain, xtest, ytrain, ytest = train_test_split(x,y, test_size=0.25, random_state=1)"
   ]
  },
  {
   "cell_type": "markdown",
   "metadata": {},
   "source": [
    "# LogisticRegression"
   ]
  },
  {
   "cell_type": "code",
   "execution_count": 10,
   "metadata": {},
   "outputs": [],
   "source": [
    "from sklearn.linear_model import LogisticRegression\n",
    "\n",
    "logreg = LogisticRegression()\n",
    "logreg.fit(xtrain, ytrain)\n",
    "ypred1 = logreg.predict(xtest)"
   ]
  },
  {
   "cell_type": "code",
   "execution_count": 11,
   "metadata": {},
   "outputs": [
    {
     "name": "stdout",
     "output_type": "stream",
     "text": [
      "Accuracy -: 0.7552083333333334\n"
     ]
    }
   ],
   "source": [
    "from sklearn.metrics import accuracy_score\n",
    "\n",
    "print(f\"Accuracy -: {accuracy_score(ytest, ypred1)}\")"
   ]
  },
  {
   "cell_type": "markdown",
   "metadata": {},
   "source": [
    "# classification_report"
   ]
  },
  {
   "cell_type": "code",
   "execution_count": 12,
   "metadata": {},
   "outputs": [
    {
     "name": "stdout",
     "output_type": "stream",
     "text": [
      "              precision    recall  f1-score   support\n",
      "\n",
      "           0       0.78      0.88      0.83       128\n",
      "           1       0.68      0.50      0.58        64\n",
      "\n",
      "    accuracy                           0.76       192\n",
      "   macro avg       0.73      0.69      0.70       192\n",
      "weighted avg       0.75      0.76      0.74       192\n",
      "\n"
     ]
    }
   ],
   "source": [
    "from sklearn.metrics import classification_report\n",
    "\n",
    "print(classification_report(ytest, ypred1))\n"
   ]
  },
  {
   "cell_type": "markdown",
   "metadata": {},
   "source": [
    "# confusion_matrix"
   ]
  },
  {
   "cell_type": "code",
   "execution_count": 13,
   "metadata": {},
   "outputs": [
    {
     "name": "stdout",
     "output_type": "stream",
     "text": [
      "[[113  15]\n",
      " [ 32  32]]\n"
     ]
    }
   ],
   "source": [
    "from sklearn.metrics import confusion_matrix\n",
    "\n",
    "print(confusion_matrix(ytest, ypred1))"
   ]
  },
  {
   "cell_type": "code",
   "execution_count": 14,
   "metadata": {},
   "outputs": [
    {
     "data": {
      "text/plain": [
       "array([0.64335394, 0.06273572, 0.40907117, 0.0749569 , 0.10309289,\n",
       "       0.41373797, 0.04313769, 0.33187866, 0.27891301, 0.00832606,\n",
       "       0.4130517 , 0.00440661, 0.08518281, 0.08922684, 0.10680889,\n",
       "       0.41871777, 0.40870621, 0.30058067, 0.11779952, 0.11020149,\n",
       "       0.0071205 , 0.4237764 , 0.36585625, 0.21840635, 0.12994024,\n",
       "       0.05011273, 0.16810875, 0.04394387, 0.09792233, 0.90533451,\n",
       "       0.40519579, 0.16365998, 0.25598845, 0.69762419, 0.03695046,\n",
       "       0.68725391, 0.09902004, 0.4310413 , 0.71781586, 0.1678947 ,\n",
       "       0.33925807, 0.30044323, 0.3618221 , 0.20522836, 0.06245758,\n",
       "       0.27594546, 0.02544598, 0.13917159, 0.07841178, 0.36471888,\n",
       "       0.13502213, 0.14797256, 0.14258372, 0.76089973, 0.19992288,\n",
       "       0.11628423, 0.10428306, 0.85826172, 0.26776487, 0.49895951,\n",
       "       0.51284453, 0.51421745, 0.05274335, 0.45785415, 0.19341454,\n",
       "       0.09932383, 0.25698253, 0.39052897, 0.46373315, 0.56164802,\n",
       "       0.39674369, 0.66168913, 0.69518158, 0.01540296, 0.67524381,\n",
       "       0.66082613, 0.44890178, 0.22131853, 0.11739727, 0.06671755,\n",
       "       0.20352914, 0.40939709, 0.88701554, 0.39765309, 0.3770032 ,\n",
       "       0.09381671, 0.58699036, 0.86674438, 0.11863939, 0.14404346,\n",
       "       0.12588082, 0.08940174, 0.00250621, 0.09565946, 0.82548928,\n",
       "       0.02149649, 0.10477589, 0.32776251, 0.24380808, 0.11990234,\n",
       "       0.50443657, 0.27736973, 0.09844996, 0.13574487, 0.1491864 ,\n",
       "       0.28748413, 0.028074  , 0.04365492, 0.21601609, 0.47642232,\n",
       "       0.2876278 , 0.93403399, 0.15056241, 0.6746689 , 0.3040646 ,\n",
       "       0.53239628, 0.21154191, 0.37913065, 0.44114478, 0.47129888,\n",
       "       0.2535777 , 0.16278885, 0.33421896, 0.88866267, 0.4142994 ,\n",
       "       0.14163948, 0.77852542, 0.45039358, 0.07578697, 0.03101651,\n",
       "       0.29601977, 0.50618014, 0.43204679, 0.36246056, 0.63721175,\n",
       "       0.45317425, 0.66026889, 0.09861513, 0.14516587, 0.07170126,\n",
       "       0.95966515, 0.10447947, 0.15357342, 0.29341757, 0.04860414,\n",
       "       0.35168401, 0.00231442, 0.23655968, 0.57947963, 0.10732858,\n",
       "       0.74458663, 0.86669324, 0.0660574 , 0.26400654, 0.73259734,\n",
       "       0.74192894, 0.26806962, 0.17907202, 0.6140634 , 0.72451487,\n",
       "       0.61843713, 0.18340377, 0.23870029, 0.50904257, 0.39831452,\n",
       "       0.30876819, 0.33178387, 0.5901176 , 0.79699347, 0.82972399,\n",
       "       0.83836046, 0.54004161, 0.72193489, 0.95513532, 0.26625763,\n",
       "       0.42529069, 0.7852411 , 0.02530831, 0.06821775, 0.46956897,\n",
       "       0.30400033, 0.72240646, 0.88922726, 0.44773762, 0.26617945,\n",
       "       0.21422897, 0.30466354, 0.40131481, 0.07386034, 0.17349454,\n",
       "       0.19939053, 0.32865553])"
      ]
     },
     "execution_count": 14,
     "metadata": {},
     "output_type": "execute_result"
    }
   ],
   "source": [
    "yproba=logreg.predict_proba(xtest)[:,-1]\n",
    "yproba"
   ]
  },
  {
   "cell_type": "code",
   "execution_count": 15,
   "metadata": {},
   "outputs": [
    {
     "name": "stdout",
     "output_type": "stream",
     "text": [
      "Actual values : 285    0\n",
      "101    0\n",
      "581    0\n",
      "352    0\n",
      "632    0\n",
      "472    0\n",
      "233    0\n",
      "385    1\n",
      "556    0\n",
      "59     0\n",
      "755    0\n",
      "341    0\n",
      "445    0\n",
      "614    0\n",
      "371    0\n",
      "355    1\n",
      "19     0\n",
      "710    0\n",
      "430    0\n",
      "117    0\n",
      "493    0\n",
      "218    1\n",
      "159    0\n",
      "666    1\n",
      "553    0\n",
      "Name: 1, dtype: int64\n",
      "predict values : [1 0 0 0 0 0 0 0 0 0 0 0 0 0 0 0 0 0 0 0 0 0 0 0 0]\n"
     ]
    }
   ],
   "source": [
    "print(f'Actual values : {ytest[:25]}')\n",
    "print(f\"predict values : {ypred1[:25]}\")"
   ]
  },
  {
   "cell_type": "code",
   "execution_count": 16,
   "metadata": {},
   "outputs": [
    {
     "name": "stdout",
     "output_type": "stream",
     "text": [
      "Actual values : 628    0\n",
      "620    0\n",
      "238    0\n",
      "639    0\n",
      "758    1\n",
      "577    0\n",
      "533    0\n",
      "134    0\n",
      "752    1\n",
      "202    0\n",
      "688    1\n",
      "759    0\n",
      "85     0\n",
      "403    1\n",
      "558    0\n",
      "311    1\n",
      "277    0\n",
      "47     1\n",
      "187    1\n",
      "224    0\n",
      "90     0\n",
      "8      1\n",
      "399    1\n",
      "678    0\n",
      "400    0\n",
      "81     0\n",
      "Name: 1, dtype: int64\n",
      "predict values : [0 0 0 0 1 0 0 0 1 0 1 0 0 1 0 0 0 0 0 0 0 0 0 0 0 0]\n"
     ]
    }
   ],
   "source": [
    "print(f\"Actual values : {ytest[25:51]}\")\n",
    "print(f\"predict values : {ypred1[25:51]}\")"
   ]
  },
  {
   "cell_type": "code",
   "execution_count": 17,
   "metadata": {},
   "outputs": [
    {
     "data": {
      "text/plain": [
       "array([0.64335394, 0.06273572, 0.40907117, 0.0749569 , 0.10309289,\n",
       "       0.41373797, 0.04313769, 0.33187866, 0.27891301, 0.00832606,\n",
       "       0.4130517 , 0.00440661, 0.08518281, 0.08922684, 0.10680889,\n",
       "       0.41871777, 0.40870621, 0.30058067, 0.11779952, 0.11020149,\n",
       "       0.0071205 , 0.4237764 , 0.36585625, 0.21840635, 0.12994024,\n",
       "       0.05011273, 0.16810875, 0.04394387, 0.09792233, 0.90533451,\n",
       "       0.40519579, 0.16365998, 0.25598845, 0.69762419, 0.03695046,\n",
       "       0.68725391, 0.09902004, 0.4310413 , 0.71781586, 0.1678947 ,\n",
       "       0.33925807, 0.30044323, 0.3618221 , 0.20522836, 0.06245758,\n",
       "       0.27594546, 0.02544598, 0.13917159, 0.07841178, 0.36471888,\n",
       "       0.13502213, 0.14797256, 0.14258372, 0.76089973, 0.19992288,\n",
       "       0.11628423, 0.10428306, 0.85826172, 0.26776487, 0.49895951,\n",
       "       0.51284453, 0.51421745, 0.05274335, 0.45785415, 0.19341454,\n",
       "       0.09932383, 0.25698253, 0.39052897, 0.46373315, 0.56164802,\n",
       "       0.39674369, 0.66168913, 0.69518158, 0.01540296, 0.67524381,\n",
       "       0.66082613, 0.44890178, 0.22131853, 0.11739727, 0.06671755,\n",
       "       0.20352914, 0.40939709, 0.88701554, 0.39765309, 0.3770032 ,\n",
       "       0.09381671, 0.58699036, 0.86674438, 0.11863939, 0.14404346,\n",
       "       0.12588082, 0.08940174, 0.00250621, 0.09565946, 0.82548928,\n",
       "       0.02149649, 0.10477589, 0.32776251, 0.24380808, 0.11990234,\n",
       "       0.50443657, 0.27736973, 0.09844996, 0.13574487, 0.1491864 ,\n",
       "       0.28748413, 0.028074  , 0.04365492, 0.21601609, 0.47642232,\n",
       "       0.2876278 , 0.93403399, 0.15056241, 0.6746689 , 0.3040646 ,\n",
       "       0.53239628, 0.21154191, 0.37913065, 0.44114478, 0.47129888,\n",
       "       0.2535777 , 0.16278885, 0.33421896, 0.88866267, 0.4142994 ,\n",
       "       0.14163948, 0.77852542, 0.45039358, 0.07578697, 0.03101651,\n",
       "       0.29601977, 0.50618014, 0.43204679, 0.36246056, 0.63721175,\n",
       "       0.45317425, 0.66026889, 0.09861513, 0.14516587, 0.07170126,\n",
       "       0.95966515, 0.10447947, 0.15357342, 0.29341757, 0.04860414,\n",
       "       0.35168401, 0.00231442, 0.23655968, 0.57947963, 0.10732858,\n",
       "       0.74458663, 0.86669324, 0.0660574 , 0.26400654, 0.73259734,\n",
       "       0.74192894, 0.26806962, 0.17907202, 0.6140634 , 0.72451487,\n",
       "       0.61843713, 0.18340377, 0.23870029, 0.50904257, 0.39831452,\n",
       "       0.30876819, 0.33178387, 0.5901176 , 0.79699347, 0.82972399,\n",
       "       0.83836046, 0.54004161, 0.72193489, 0.95513532, 0.26625763,\n",
       "       0.42529069, 0.7852411 , 0.02530831, 0.06821775, 0.46956897,\n",
       "       0.30400033, 0.72240646, 0.88922726, 0.44773762, 0.26617945,\n",
       "       0.21422897, 0.30466354, 0.40131481, 0.07386034, 0.17349454,\n",
       "       0.19939053, 0.32865553])"
      ]
     },
     "execution_count": 17,
     "metadata": {},
     "output_type": "execute_result"
    }
   ],
   "source": [
    "yproba=logreg.predict_proba(xtest)[:,-1]\n",
    "yproba"
   ]
  },
  {
   "cell_type": "code",
   "execution_count": 18,
   "metadata": {},
   "outputs": [
    {
     "data": {
      "text/plain": [
       "[]"
      ]
     },
     "execution_count": 18,
     "metadata": {},
     "output_type": "execute_result"
    },
    {
     "data": {
      "image/png": "[encoded data removed]",
      "text/plain": [
       "<Figure size 432x288 with 1 Axes>"
      ]
     },
     "metadata": {
      "needs_background": "light"
     },
     "output_type": "display_data"
    }
   ],
   "source": [
    "plt.hist(yproba)\n",
    "plt.title(\"Histogram of prediction prob\")\n",
    "plt.xlabel(\"predicted prob  of diebetes \")\n",
    "plt.ylabel(\"Frequency\")\n",
    "plt.grid(True)\n",
    "plt.plot()"
   ]
  },
  {
   "cell_type": "code",
   "execution_count": 19,
   "metadata": {},
   "outputs": [],
   "source": [
    "from sklearn.preprocessing import binarize"
   ]
  },
  {
   "cell_type": "code",
   "execution_count": 20,
   "metadata": {},
   "outputs": [],
   "source": [
    "ypred=binarize([yproba],threshold=0.30)[0]"
   ]
  },
  {
   "cell_type": "code",
   "execution_count": 21,
   "metadata": {},
   "outputs": [
    {
     "name": "stdout",
     "output_type": "stream",
     "text": [
      "Actual values : 285    0\n",
      "101    0\n",
      "581    0\n",
      "352    0\n",
      "632    0\n",
      "472    0\n",
      "233    0\n",
      "385    1\n",
      "556    0\n",
      "59     0\n",
      "755    0\n",
      "341    0\n",
      "445    0\n",
      "614    0\n",
      "371    0\n",
      "355    1\n",
      "19     0\n",
      "710    0\n",
      "430    0\n",
      "117    0\n",
      "493    0\n",
      "218    1\n",
      "159    0\n",
      "666    1\n",
      "553    0\n",
      "Name: 1, dtype: int64\n",
      "predict values : [1 0 0 0 0 0 0 0 0 0 0 0 0 0 0 0 0 0 0 0 0 0 0 0 0]\n"
     ]
    }
   ],
   "source": [
    "print(f'Actual values : {ytest[:25]}')\n",
    "print(f\"predict values : {(ypred1[:25].astype(int))}\")"
   ]
  },
  {
   "cell_type": "markdown",
   "metadata": {},
   "source": [
    "# auc roc curve"
   ]
  },
  {
   "cell_type": "code",
   "execution_count": 22,
   "metadata": {},
   "outputs": [],
   "source": [
    "from sklearn.metrics import roc_curve"
   ]
  },
  {
   "cell_type": "code",
   "execution_count": 23,
   "metadata": {},
   "outputs": [
    {
     "data": {
      "image/png": "[encoded data removed]",
      "text/plain": [
       "<Figure size 432x288 with 1 Axes>"
      ]
     },
     "metadata": {
      "needs_background": "light"
     },
     "output_type": "display_data"
    }
   ],
   "source": [
    "fpr,tpr,thres=roc_curve(ytest,yproba)\n",
    "plt.plot(fpr,tpr)\n",
    "plt.title(\"Roc curve for diabetes\")\n",
    "plt.xlabel(\"False positve Rate \")\n",
    "plt.ylabel(\"True positive Rate \")\n",
    "plt.grid(True)\n",
    "plt.show()"
   ]
  },
  {
   "cell_type": "code",
   "execution_count": null,
   "metadata": {},
   "outputs": [],
   "source": []
  },
  {
   "cell_type": "code",
   "execution_count": null,
   "metadata": {},
   "outputs": [],
   "source": []
  },
  {
   "cell_type": "code",
   "execution_count": null,
   "metadata": {},
   "outputs": [],
   "source": []
  }
 ],
 "metadata": {
  "kernelspec": {
   "display_name": "Python 3",
   "language": "python",
   "name": "python3"
  },
  "language_info": {
   "codemirror_mode": {
    "name": "ipython",
    "version": 3
   },
   "file_extension": ".py",
   "mimetype": "text/x-python",
   "name": "python",
   "nbconvert_exporter": "python",
   "pygments_lexer": "ipython3",
   "version": "3.8.8"
  }
 },
 "nbformat": 4,
 "nbformat_minor": 2
}
